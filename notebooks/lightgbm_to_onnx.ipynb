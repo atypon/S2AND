{
 "cells": [
  {
   "cell_type": "code",
   "execution_count": 27,
   "metadata": {},
   "outputs": [],
   "source": [
    "import joblib, pickle\n",
    "\n",
    "from s2and_ext.my_models import LightGBMWrapper\n",
    "from s2and_ext.my_featurization import get_matrices, featurizing_function\n",
    "\n",
    "from skl2onnx import convert_sklearn, update_registered_converter\n",
    "from skl2onnx.common.shape_calculator import calculate_linear_classifier_output_shapes\n",
    "from skl2onnx.common.data_types import FloatTensorType\n",
    "from onnxmltools.convert.lightgbm.operator_converters.LightGbm import convert_lightgbm\n",
    "\n",
    "import lightgbm as lgb"
   ]
  },
  {
   "cell_type": "markdown",
   "metadata": {},
   "source": [
    "### Conversion to ONNX"
   ]
  },
  {
   "cell_type": "code",
   "execution_count": 28,
   "metadata": {},
   "outputs": [
    {
     "name": "stdout",
     "output_type": "stream",
     "text": [
      "Loaded dataset from pickle...\n",
      "Processed aminer\n",
      "Loaded dataset from pickle...\n",
      "Processed pubmed\n",
      "Loaded dataset from pickle...\n",
      "Processed zbmath\n",
      "Loaded dataset from pickle...\n",
      "Processed kisti\n",
      "Loaded dataset from pickle...\n",
      "Processed arnetminer\n",
      "Nan values for each feature :\n",
      "[  1085      0      0   2431   2431      0      0    519 434278]\n"
     ]
    }
   ],
   "source": [
    "# Get GBMClassifier out of LIghtGBMWrapper\n",
    "model = joblib.load('models/lightgbm_sparse_0_23.joblib').model\n",
    "\n",
    "X_train, y_train, X_val, y_val, X_test, y_test = get_matrices(datasets=['aminer', 'pubmed', 'zbmath', 'kisti', 'arnetminer'], \n",
    "                                                                  featurizing_function=featurizing_function, \n",
    "                                                                  remove_nan=False,\n",
    "                                                                  default_embeddings=True,\n",
    "                                                                  external_emb_dir=None)\n",
    "\n",
    "update_registered_converter(\n",
    "    lgb.LGBMClassifier, 'LightGbmLGBMClassifier',\n",
    "    calculate_linear_classifier_output_shapes, convert_lightgbm,\n",
    "    options={'nocl': [True, False], 'zipmap': [True, False, 'columns']})\n",
    "\n",
    "model_onnx = convert_sklearn(\n",
    "    model, 'lightgbm',\n",
    "    [('input', FloatTensorType([None, 9]))],\n",
    "    target_opset=12)\n",
    "\n",
    "# And save.\n",
    "with open(\"models/lightgbm_sparse_0_23.onnx\", \"wb\") as f:\n",
    "    f.write(model_onnx.SerializeToString())"
   ]
  },
  {
   "cell_type": "markdown",
   "metadata": {},
   "source": [
    "### ONNX Inference\n",
    "\n",
    "sess.run returns tuple of lists. The first list in the tuple contains the labels for each input (0 or 1). The second list in the tuple contains list of probabailities. The output the must be used is the probability of 0. In the following code cell, an example output of sess.run is printed."
   ]
  },
  {
   "cell_type": "code",
   "execution_count": 29,
   "metadata": {},
   "outputs": [
    {
     "name": "stdout",
     "output_type": "stream",
     "text": [
      "[array([0, 0, 1, 1, 1], dtype=int64), [{0: 0.7047421336174011, 1: 0.2952578663825989}, {0: 0.5081993937492371, 1: 0.49180060625076294}, {0: 0.22425144910812378, 1: 0.7757485508918762}, {0: 0.360037624835968, 1: 0.639962375164032}, {0: 0.3745957612991333, 1: 0.6254042387008667}]]\n"
     ]
    }
   ],
   "source": [
    "import onnxruntime as rt\n",
    "import numpy as np\n",
    "\n",
    "try:\n",
    "    sess = rt.InferenceSession(\"models/lightgbm_sparse_0_23.onnx\")\n",
    "except:\n",
    "    sess = None\n",
    "\n",
    "if sess is not None:\n",
    "    pred_onx = sess.run(None, {\"input\": X_train.astype(np.float32)})\n",
    "\n",
    "y_onnx = np.asarray([pred[0] for pred in pred_onx[1]])\n",
    "y_target = model.predict_proba(X_train)[:,0]\n",
    "\n",
    "print(sess.run(None, {\"input\": X_train.astype(np.float32)[:5,:]}))"
   ]
  },
  {
   "cell_type": "markdown",
   "metadata": {},
   "source": [
    "### Testing"
   ]
  },
  {
   "cell_type": "code",
   "execution_count": 30,
   "metadata": {},
   "outputs": [
    {
     "name": "stdout",
     "output_type": "stream",
     "text": [
      "Test failed\n"
     ]
    }
   ],
   "source": [
    "try:\n",
    "    np.testing.assert_array_almost_equal(y_target,y_onnx, decimal=5)\n",
    "    print('Test passed')\n",
    "except:\n",
    "    print('Test failed')"
   ]
  },
  {
   "cell_type": "code",
   "execution_count": 31,
   "metadata": {},
   "outputs": [
    {
     "ename": "AssertionError",
     "evalue": "\nArrays are not almost equal to 5 decimals\n\nMismatched elements: 1 / 440487 (0.000227%)\nMax absolute difference: 0.02116809\nMax relative difference: 0.02300601\n x: array([0.70474, 0.5082 , 0.22425, ..., 0.01489, 0.30098, 0.1226 ])\n y: array([0.70474, 0.5082 , 0.22425, ..., 0.01489, 0.30098, 0.1226 ])",
     "output_type": "error",
     "traceback": [
      "\u001b[0;31m---------------------------------------------------------------------------\u001b[0m",
      "\u001b[0;31mAssertionError\u001b[0m                            Traceback (most recent call last)",
      "\u001b[0;32m/tmp/ipykernel_1101609/3223997054.py\u001b[0m in \u001b[0;36m<module>\u001b[0;34m\u001b[0m\n\u001b[0;32m----> 1\u001b[0;31m \u001b[0mnp\u001b[0m\u001b[0;34m.\u001b[0m\u001b[0mtesting\u001b[0m\u001b[0;34m.\u001b[0m\u001b[0massert_array_almost_equal\u001b[0m\u001b[0;34m(\u001b[0m\u001b[0my_target\u001b[0m\u001b[0;34m,\u001b[0m\u001b[0my_onnx\u001b[0m\u001b[0;34m,\u001b[0m \u001b[0mdecimal\u001b[0m\u001b[0;34m=\u001b[0m\u001b[0;36m5\u001b[0m\u001b[0;34m)\u001b[0m\u001b[0;34m\u001b[0m\u001b[0m\n\u001b[0m",
      "    \u001b[0;31m[... skipping hidden 1 frame]\u001b[0m\n",
      "\u001b[0;32m~/anaconda3/envs/s2and/lib/python3.7/site-packages/numpy/testing/_private/utils.py\u001b[0m in \u001b[0;36massert_array_compare\u001b[0;34m(comparison, x, y, err_msg, verbose, header, precision, equal_nan, equal_inf)\u001b[0m\n\u001b[1;32m    838\u001b[0m                                 \u001b[0mverbose\u001b[0m\u001b[0;34m=\u001b[0m\u001b[0mverbose\u001b[0m\u001b[0;34m,\u001b[0m \u001b[0mheader\u001b[0m\u001b[0;34m=\u001b[0m\u001b[0mheader\u001b[0m\u001b[0;34m,\u001b[0m\u001b[0;34m\u001b[0m\u001b[0m\n\u001b[1;32m    839\u001b[0m                                 names=('x', 'y'), precision=precision)\n\u001b[0;32m--> 840\u001b[0;31m             \u001b[0;32mraise\u001b[0m \u001b[0mAssertionError\u001b[0m\u001b[0;34m(\u001b[0m\u001b[0mmsg\u001b[0m\u001b[0;34m)\u001b[0m\u001b[0;34m\u001b[0m\u001b[0m\n\u001b[0m\u001b[1;32m    841\u001b[0m     \u001b[0;32mexcept\u001b[0m \u001b[0mValueError\u001b[0m\u001b[0;34m:\u001b[0m\u001b[0;34m\u001b[0m\u001b[0m\n\u001b[1;32m    842\u001b[0m         \u001b[0;32mimport\u001b[0m \u001b[0mtraceback\u001b[0m\u001b[0;34m\u001b[0m\u001b[0m\n",
      "\u001b[0;31mAssertionError\u001b[0m: \nArrays are not almost equal to 5 decimals\n\nMismatched elements: 1 / 440487 (0.000227%)\nMax absolute difference: 0.02116809\nMax relative difference: 0.02300601\n x: array([0.70474, 0.5082 , 0.22425, ..., 0.01489, 0.30098, 0.1226 ])\n y: array([0.70474, 0.5082 , 0.22425, ..., 0.01489, 0.30098, 0.1226 ])"
     ]
    }
   ],
   "source": [
    "np.testing.assert_array_almost_equal(y_target,y_onnx, decimal=5)"
   ]
  },
  {
   "cell_type": "code",
   "execution_count": null,
   "metadata": {},
   "outputs": [
    {
     "name": "stdout",
     "output_type": "stream",
     "text": [
      "Test passed\n"
     ]
    }
   ],
   "source": [
    "pred_onx = sess.run(None, {\"input\": X_test.astype(np.float32)})\n",
    "y_onnx = np.asarray([pred[0] for pred in pred_onx[1]])\n",
    "y_target = model.predict_proba(X_test)[:,0]\n",
    "\n",
    "try:\n",
    "    np.testing.assert_array_almost_equal(y_target,y_onnx, decimal=5)\n",
    "    print('Test passed')\n",
    "except:\n",
    "    print('Test failed')"
   ]
  },
  {
   "cell_type": "code",
   "execution_count": null,
   "metadata": {},
   "outputs": [],
   "source": []
  }
 ],
 "metadata": {
  "interpreter": {
   "hash": "34bd571f986e526ee07817bc25b8bc08eff8ad8dac3e07e5e9c1c30bd869a56b"
  },
  "kernelspec": {
   "display_name": "Python 3.7.0 64-bit ('s2and': conda)",
   "language": "python",
   "name": "python3"
  },
  "language_info": {
   "codemirror_mode": {
    "name": "ipython",
    "version": 3
   },
   "file_extension": ".py",
   "mimetype": "text/x-python",
   "name": "python",
   "nbconvert_exporter": "python",
   "pygments_lexer": "ipython3",
   "version": "3.7.0"
  },
  "orig_nbformat": 4
 },
 "nbformat": 4,
 "nbformat_minor": 2
}
