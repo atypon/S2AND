{
 "cells": [
  {
   "cell_type": "code",
   "execution_count": 1,
   "metadata": {},
   "outputs": [],
   "source": [
    "import json\n",
    "import os\n",
    "import time\n",
    "\n",
    "from fastcluster import linkage\n",
    "import matplotlib.pyplot as plt\n",
    "import numpy as np\n",
    "from scipy.cluster.hierarchy import fcluster\n",
    "from sklearn.cluster import DBSCAN, AgglomerativeClustering"
   ]
  },
  {
   "cell_type": "code",
   "execution_count": 2,
   "metadata": {},
   "outputs": [],
   "source": [
    "def read_jsonl(path):\n",
    "    \"\"\"Parse jsonl to list of dicts\"\"\"\n",
    "    with open(path) as f:\n",
    "        lines = f.readlines()\n",
    "    return [json.loads(line) for line in lines]\n",
    "\n",
    "\n",
    "def get_signatures(ap_results):\n",
    "    \"\"\"Given the author profile results get all signatures\"\"\"\n",
    "    signatures = []\n",
    "    for profile in ap_results:\n",
    "        signatures += profile['signatureIds']\n",
    "    return signatures\n",
    "\n",
    "\n",
    "def fill_dmatrix(distances, signature_list):\n",
    "    \"\"\"Given distances jsonl and list of signatures fill the distance matrix\"\"\"\n",
    "    dmatrix = np.zeros(shape=(len(signature_list), len(signature_list)))\n",
    "\n",
    "    signature_to_idx = {\n",
    "        signature: idx for idx, signature in enumerate(signature_list)\n",
    "    }\n",
    "\n",
    "    for distance in distances:\n",
    "        sig1 = distance['signatureId1']\n",
    "        sig2 = distance['signatureId2']\n",
    "        d = distance['distance']\n",
    "        row = signature_to_idx[sig1]\n",
    "        column = signature_to_idx[sig2]\n",
    "        dmatrix[row, column] = d\n",
    "\n",
    "    dmatrix = dmatrix.T + dmatrix # Transpose to fill symetric elements\n",
    "    return dmatrix, signature_to_idx\n",
    "\n",
    "\n",
    "def get_features(sig_id, features):\n",
    "    \"\"\"Retrieve all feature vectors realated to the given signature\"\"\"\n",
    "    feature_vectors = []\n",
    "    for feature_entry in features:\n",
    "        if feature_entry['signatureId1'] == sig_id or feature_entry['signatureId2'] == sig_id:\n",
    "            feature_vectors.append(feature_entry['features'])\n",
    "    return feature_vectors"
   ]
  },
  {
   "cell_type": "code",
   "execution_count": 3,
   "metadata": {},
   "outputs": [],
   "source": [
    "AUTHOR_PATH = '../data/rcohen/'"
   ]
  },
  {
   "cell_type": "code",
   "execution_count": 4,
   "metadata": {},
   "outputs": [],
   "source": [
    "ap_results = read_jsonl(path=os.path.join(AUTHOR_PATH, 'results.json'))\n",
    "distances = read_jsonl(path=os.path.join(AUTHOR_PATH, 'distances.json'))\n",
    "signatures = get_signatures(ap_results)\n",
    "dmatrix, signature_to_idx = fill_dmatrix(distances, signatures)"
   ]
  },
  {
   "cell_type": "code",
   "execution_count": 44,
   "metadata": {},
   "outputs": [
    {
     "name": "stdout",
     "output_type": "stream",
     "text": [
      "Clustering with DBSCAN lasts 1.48 seconds\n"
     ]
    }
   ],
   "source": [
    "durations = []\n",
    "\n",
    "clusterer = DBSCAN(eps=0.08025, min_samples=2, metric='precomputed')\n",
    "t0 = time.time()\n",
    "_ = clusterer.fit_predict(dmatrix)\n",
    "t1 = time.time()\n",
    "\n",
    "durations.append(t1-t0)\n",
    "print(f'Clustering with DBSCAN lasts {(t1-t0):.2f} seconds')"
   ]
  },
  {
   "cell_type": "code",
   "execution_count": 45,
   "metadata": {},
   "outputs": [
    {
     "name": "stdout",
     "output_type": "stream",
     "text": [
      "Clustering with AgglomerativeClustering lasts 7.00 seconds\n"
     ]
    }
   ],
   "source": [
    "clusterer = AgglomerativeClustering(\n",
    "    n_clusters=None,\n",
    "    affinity='precomputed',\n",
    "    distance_threshold=0.52502,\n",
    "    linkage='average'\n",
    ")\n",
    "t0 = time.time()\n",
    "sklearn_profiles = clusterer.fit_predict(dmatrix)\n",
    "t1 = time.time()\n",
    "\n",
    "durations.append(t1-t0)\n",
    "print(f'Clustering with AgglomerativeClustering lasts {(t1-t0):.2f} seconds')"
   ]
  },
  {
   "cell_type": "code",
   "execution_count": 46,
   "metadata": {},
   "outputs": [
    {
     "name": "stdout",
     "output_type": "stream",
     "text": [
      "Clustering with Fastcluster lasts 1.75 seconds\n"
     ]
    }
   ],
   "source": [
    "condensed_dmatrix = dmatrix[np.triu_indices(n=dmatrix.shape[0], k=1)]\n",
    "\n",
    "t0 = time.time()\n",
    "Z = linkage(condensed_dmatrix, method='average')\n",
    "fastcluster_profiles = fcluster(Z, t=0.52502, criterion='distance')\n",
    "t1 = time.time()\n",
    "\n",
    "durations.append(t1-t0)\n",
    "print(f'Clustering with Fastcluster lasts {(t1-t0):.2f} seconds')"
   ]
  },
  {
   "cell_type": "code",
   "execution_count": 47,
   "metadata": {},
   "outputs": [
    {
     "name": "stdout",
     "output_type": "stream",
     "text": [
      "ARI: 1.0\n",
      "NMI: 1.0\n"
     ]
    }
   ],
   "source": [
    "from sklearn.metrics import adjusted_rand_score, normalized_mutual_info_score\n",
    "\n",
    "ari = adjusted_rand_score(labels_true=sklearn_profiles, labels_pred=fastcluster_profiles)\n",
    "nmi = normalized_mutual_info_score(labels_true=sklearn_profiles, labels_pred=fastcluster_profiles)\n",
    "\n",
    "print(f'ARI: {ari}')\n",
    "print(f'NMI: {nmi}')"
   ]
  },
  {
   "cell_type": "code",
   "execution_count": 50,
   "metadata": {},
   "outputs": [
    {
     "data": {
      "image/png": "[encoded data removed]",
      "text/plain": [
       "<Figure size 640x480 with 1 Axes>"
      ]
     },
     "metadata": {},
     "output_type": "display_data"
    }
   ],
   "source": [
    "plt.bar(x=range(len(durations)), height=durations)\n",
    "plt.grid()\n",
    "plt.xlabel('Algorithm')\n",
    "plt.ylabel('Clustering duration for 18k signatures (s)')\n",
    "plt.xticks(ticks=range(len(durations)), labels=['DBSCAN', 'Sklearn Aggl.', 'Fastcluster Aggl.'], rotation=90)\n",
    "plt.show()"
   ]
  }
 ],
 "metadata": {
  "kernelspec": {
   "display_name": "s2and",
   "language": "python",
   "name": "python3"
  },
  "language_info": {
   "codemirror_mode": {
    "name": "ipython",
    "version": 3
   },
   "file_extension": ".py",
   "mimetype": "text/x-python",
   "name": "python",
   "nbconvert_exporter": "python",
   "pygments_lexer": "ipython3",
   "version": "3.7.0"
  }
 },
 "nbformat": 4,
 "nbformat_minor": 2
}
