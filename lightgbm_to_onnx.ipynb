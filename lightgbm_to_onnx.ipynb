{
 "cells": [
  {
   "cell_type": "code",
   "execution_count": 2,
   "metadata": {},
   "outputs": [],
   "source": [
    "import joblib, pickle\n",
    "from s2and_ext.my_models import LightGBMWrapper\n",
    "\n",
    "from skl2onnx import convert_sklearn, update_registered_converter\n",
    "from skl2onnx.common.shape_calculator import calculate_linear_classifier_output_shapes\n",
    "from skl2onnx.common.data_types import FloatTensorType\n",
    "from onnxmltools.convert.lightgbm.operator_converters.LightGbm import convert_lightgbm\n",
    "\n",
    "import lightgbm as lgb"
   ]
  },
  {
   "cell_type": "markdown",
   "metadata": {},
   "source": [
    "### Conversion to ONNX"
   ]
  },
  {
   "cell_type": "code",
   "execution_count": 3,
   "metadata": {},
   "outputs": [],
   "source": [
    "# Get GBMClassifier out of LIghtGBMWrapper\n",
    "model = joblib.load('models/lightgbm.joblib').model\n",
    "\n",
    "with open('cached/numpy_arrays.pickle', 'rb') as f:\n",
    "        X_train, y_train, X_val, y_val, X_test, y_test = pickle.load(f)\n",
    "\n",
    "update_registered_converter(\n",
    "    lgb.LGBMClassifier, 'LightGbmLGBMClassifier',\n",
    "    calculate_linear_classifier_output_shapes, convert_lightgbm,\n",
    "    options={'nocl': [True, False], 'zipmap': [True, False, 'columns']})\n",
    "\n",
    "model_onnx = convert_sklearn(\n",
    "    model, 'lightgbm',\n",
    "    [('input', FloatTensorType([None, 9]))],\n",
    "    target_opset=12)\n",
    "\n",
    "# And save.\n",
    "with open(\"models/lightgbm.onnx\", \"wb\") as f:\n",
    "    f.write(model_onnx.SerializeToString())\n"
   ]
  },
  {
   "cell_type": "markdown",
   "metadata": {},
   "source": [
    "### ONNX Inference\n",
    "\n",
    "sess.run returns tuple of lists. The first list in the tuple contains the labels for each input (0 or 1). The second list in the tuple contains list of probabailities. The output the must be used is the probability of 0. In the following code cell, an example output of sess.run is printed."
   ]
  },
  {
   "cell_type": "code",
   "execution_count": 7,
   "metadata": {},
   "outputs": [
    {
     "name": "stdout",
     "output_type": "stream",
     "text": [
      "[array([0, 0, 0, 0, 0], dtype=int64), [{0: 0.9938622713088989, 1: 0.006137728691101074}, {0: 0.9254972338676453, 1: 0.07450276613235474}, {0: 0.9979415535926819, 1: 0.0020584464073181152}, {0: 0.9901915788650513, 1: 0.00980842113494873}, {0: 0.9524827599525452, 1: 0.047517240047454834}]]\n"
     ]
    }
   ],
   "source": [
    "import onnxruntime as rt\n",
    "import numpy as np\n",
    "\n",
    "try:\n",
    "    sess = rt.InferenceSession(\"models/lightgbm.onnx\")\n",
    "except:\n",
    "    sess = None\n",
    "\n",
    "if sess is not None:\n",
    "    pred_onx = sess.run(None, {\"input\": X_train.astype(np.float32)})\n",
    "\n",
    "y_onnx = np.asarray([pred[0] for pred in pred_onx[1]])\n",
    "y_target = model.predict_proba(X_train)[:,0]\n",
    "\n",
    "print(sess.run(None, {\"input\": X_train.astype(np.float32)[:5,:]}))"
   ]
  },
  {
   "cell_type": "markdown",
   "metadata": {},
   "source": [
    "### Testing"
   ]
  },
  {
   "cell_type": "code",
   "execution_count": 4,
   "metadata": {},
   "outputs": [
    {
     "name": "stdout",
     "output_type": "stream",
     "text": [
      "Test failed\n"
     ]
    }
   ],
   "source": [
    "try:\n",
    "    np.testing.assert_array_almost_equal(y_target,y_onnx, decimal=3)\n",
    "    print('Test passed')\n",
    "except:\n",
    "    print('Test failed')"
   ]
  },
  {
   "cell_type": "code",
   "execution_count": 5,
   "metadata": {},
   "outputs": [
    {
     "ename": "AssertionError",
     "evalue": "\nArrays are not almost equal to 6 decimals\n\nMismatched elements: 1 / 440487 (0.000227%)\nMax absolute difference: 0.01507264\nMax relative difference: 0.12429958\n x: array([0.993862, 0.925497, 0.997942, ..., 0.030456, 0.988451, 0.225883])\n y: array([0.993862, 0.925497, 0.997942, ..., 0.030456, 0.988451, 0.225883])",
     "output_type": "error",
     "traceback": [
      "\u001b[0;31m---------------------------------------------------------------------------\u001b[0m",
      "\u001b[0;31mAssertionError\u001b[0m                            Traceback (most recent call last)",
      "\u001b[0;32m/tmp/ipykernel_3288789/4031419541.py\u001b[0m in \u001b[0;36m<module>\u001b[0;34m\u001b[0m\n\u001b[0;32m----> 1\u001b[0;31m \u001b[0mnp\u001b[0m\u001b[0;34m.\u001b[0m\u001b[0mtesting\u001b[0m\u001b[0;34m.\u001b[0m\u001b[0massert_array_almost_equal\u001b[0m\u001b[0;34m(\u001b[0m\u001b[0my_target\u001b[0m\u001b[0;34m,\u001b[0m\u001b[0my_onnx\u001b[0m\u001b[0;34m,\u001b[0m \u001b[0mdecimal\u001b[0m\u001b[0;34m=\u001b[0m\u001b[0;36m6\u001b[0m\u001b[0;34m)\u001b[0m\u001b[0;34m\u001b[0m\u001b[0m\n\u001b[0m",
      "    \u001b[0;31m[... skipping hidden 1 frame]\u001b[0m\n",
      "\u001b[0;32m~/anaconda3/envs/s2and/lib/python3.7/site-packages/numpy/testing/_private/utils.py\u001b[0m in \u001b[0;36massert_array_compare\u001b[0;34m(comparison, x, y, err_msg, verbose, header, precision, equal_nan, equal_inf)\u001b[0m\n\u001b[1;32m    838\u001b[0m                                 \u001b[0mverbose\u001b[0m\u001b[0;34m=\u001b[0m\u001b[0mverbose\u001b[0m\u001b[0;34m,\u001b[0m \u001b[0mheader\u001b[0m\u001b[0;34m=\u001b[0m\u001b[0mheader\u001b[0m\u001b[0;34m,\u001b[0m\u001b[0;34m\u001b[0m\u001b[0m\n\u001b[1;32m    839\u001b[0m                                 names=('x', 'y'), precision=precision)\n\u001b[0;32m--> 840\u001b[0;31m             \u001b[0;32mraise\u001b[0m \u001b[0mAssertionError\u001b[0m\u001b[0;34m(\u001b[0m\u001b[0mmsg\u001b[0m\u001b[0;34m)\u001b[0m\u001b[0;34m\u001b[0m\u001b[0m\n\u001b[0m\u001b[1;32m    841\u001b[0m     \u001b[0;32mexcept\u001b[0m \u001b[0mValueError\u001b[0m\u001b[0;34m:\u001b[0m\u001b[0;34m\u001b[0m\u001b[0m\n\u001b[1;32m    842\u001b[0m         \u001b[0;32mimport\u001b[0m \u001b[0mtraceback\u001b[0m\u001b[0;34m\u001b[0m\u001b[0m\n",
      "\u001b[0;31mAssertionError\u001b[0m: \nArrays are not almost equal to 6 decimals\n\nMismatched elements: 1 / 440487 (0.000227%)\nMax absolute difference: 0.01507264\nMax relative difference: 0.12429958\n x: array([0.993862, 0.925497, 0.997942, ..., 0.030456, 0.988451, 0.225883])\n y: array([0.993862, 0.925497, 0.997942, ..., 0.030456, 0.988451, 0.225883])"
     ]
    }
   ],
   "source": [
    "np.testing.assert_array_almost_equal(y_target,y_onnx, decimal=6)"
   ]
  },
  {
   "cell_type": "code",
   "execution_count": 8,
   "metadata": {},
   "outputs": [
    {
     "name": "stdout",
     "output_type": "stream",
     "text": [
      "Test passed\n"
     ]
    }
   ],
   "source": [
    "pred_onx = sess.run(None, {\"input\": X_test.astype(np.float32)})\n",
    "y_onnx = np.asarray([pred[0] for pred in pred_onx[1]])\n",
    "y_target = model.predict_proba(X_test)[:,0]\n",
    "\n",
    "try:\n",
    "    np.testing.assert_array_almost_equal(y_target,y_onnx, decimal=6)\n",
    "    print('Test passed')\n",
    "except:\n",
    "    print('Test failed')"
   ]
  },
  {
   "cell_type": "code",
   "execution_count": null,
   "metadata": {},
   "outputs": [],
   "source": []
  }
 ],
 "metadata": {
  "interpreter": {
   "hash": "34bd571f986e526ee07817bc25b8bc08eff8ad8dac3e07e5e9c1c30bd869a56b"
  },
  "kernelspec": {
   "display_name": "Python 3.7.0 64-bit ('s2and': conda)",
   "language": "python",
   "name": "python3"
  },
  "language_info": {
   "codemirror_mode": {
    "name": "ipython",
    "version": 3
   },
   "file_extension": ".py",
   "mimetype": "text/x-python",
   "name": "python",
   "nbconvert_exporter": "python",
   "pygments_lexer": "ipython3",
   "version": "3.7.0"
  },
  "orig_nbformat": 4
 },
 "nbformat": 4,
 "nbformat_minor": 2
}
